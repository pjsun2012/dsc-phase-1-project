{
 "cells": [
  {
   "cell_type": "code",
   "execution_count": 1,
   "metadata": {},
   "outputs": [],
   "source": [
    "import pandas as pd\n",
    "import numpy as np\n",
    "import matplotlib.pyplot as plt\n",
    "import seaborn as sns\n",
    "%matplotlib inline"
   ]
  },
  {
   "cell_type": "code",
   "execution_count": 2,
   "metadata": {},
   "outputs": [],
   "source": [
    "from glob import glob "
   ]
  },
  {
   "cell_type": "code",
   "execution_count": 3,
   "metadata": {},
   "outputs": [],
   "source": [
    "csv_files = glob(\"zippedData/*.csv.gz\")"
   ]
  },
  {
   "cell_type": "code",
   "execution_count": 4,
   "metadata": {
    "scrolled": true
   },
   "outputs": [
    {
     "data": {
      "text/plain": [
       "['zippedData\\\\bom.movie_gross.csv.gz',\n",
       " 'zippedData\\\\imdb.name.basics.csv.gz',\n",
       " 'zippedData\\\\imdb.title.akas.csv.gz',\n",
       " 'zippedData\\\\imdb.title.basics.csv.gz',\n",
       " 'zippedData\\\\imdb.title.crew.csv.gz',\n",
       " 'zippedData\\\\imdb.title.principals.csv.gz',\n",
       " 'zippedData\\\\imdb.title.ratings.csv.gz',\n",
       " 'zippedData\\\\tmdb.movies.csv.gz',\n",
       " 'zippedData\\\\tn.movie_budgets.csv.gz']"
      ]
     },
     "execution_count": 4,
     "metadata": {},
     "output_type": "execute_result"
    }
   ],
   "source": [
    "csv_files"
   ]
  },
  {
   "cell_type": "code",
   "execution_count": 5,
   "metadata": {},
   "outputs": [],
   "source": [
    "import os"
   ]
  },
  {
   "cell_type": "code",
   "execution_count": 6,
   "metadata": {},
   "outputs": [],
   "source": [
    "csv_files_dict = {}\n",
    "for filename in csv_files:\n",
    "    filename_cleaned = os.path.basename(filename).replace(\".csv\", \"\").replace(\".\", \"_\")\n",
    "    filename_df = pd.read_csv(filename, index_col = 0)\n",
    "    csv_files_dict[filename_cleaned] = filename_df"
   ]
  },
  {
   "cell_type": "code",
   "execution_count": 7,
   "metadata": {},
   "outputs": [],
   "source": [
    "df_studio = csv_files_dict['bom_movie_gross_gz']"
   ]
  },
  {
   "cell_type": "code",
   "execution_count": 8,
   "metadata": {
    "scrolled": false
   },
   "outputs": [
    {
     "name": "stdout",
     "output_type": "stream",
     "text": [
      "<class 'pandas.core.frame.DataFrame'>\n",
      "Index: 3387 entries, Toy Story 3 to An Actor Prepares\n",
      "Data columns (total 4 columns):\n",
      " #   Column          Non-Null Count  Dtype  \n",
      "---  ------          --------------  -----  \n",
      " 0   studio          3382 non-null   object \n",
      " 1   domestic_gross  3359 non-null   float64\n",
      " 2   foreign_gross   2037 non-null   object \n",
      " 3   year            3387 non-null   int64  \n",
      "dtypes: float64(1), int64(1), object(2)\n",
      "memory usage: 132.3+ KB\n"
     ]
    }
   ],
   "source": [
    "df_studio.info()"
   ]
  },
  {
   "cell_type": "code",
   "execution_count": 9,
   "metadata": {},
   "outputs": [
    {
     "data": {
      "text/html": [
       "<div>\n",
       "<style scoped>\n",
       "    .dataframe tbody tr th:only-of-type {\n",
       "        vertical-align: middle;\n",
       "    }\n",
       "\n",
       "    .dataframe tbody tr th {\n",
       "        vertical-align: top;\n",
       "    }\n",
       "\n",
       "    .dataframe thead th {\n",
       "        text-align: right;\n",
       "    }\n",
       "</style>\n",
       "<table border=\"1\" class=\"dataframe\">\n",
       "  <thead>\n",
       "    <tr style=\"text-align: right;\">\n",
       "      <th></th>\n",
       "      <th>studio</th>\n",
       "      <th>domestic_gross</th>\n",
       "      <th>foreign_gross</th>\n",
       "      <th>year</th>\n",
       "    </tr>\n",
       "    <tr>\n",
       "      <th>title</th>\n",
       "      <th></th>\n",
       "      <th></th>\n",
       "      <th></th>\n",
       "      <th></th>\n",
       "    </tr>\n",
       "  </thead>\n",
       "  <tbody>\n",
       "    <tr>\n",
       "      <th>Toy Story 3</th>\n",
       "      <td>BV</td>\n",
       "      <td>415000000.0</td>\n",
       "      <td>652000000</td>\n",
       "      <td>2010</td>\n",
       "    </tr>\n",
       "    <tr>\n",
       "      <th>Alice in Wonderland (2010)</th>\n",
       "      <td>BV</td>\n",
       "      <td>334200000.0</td>\n",
       "      <td>691300000</td>\n",
       "      <td>2010</td>\n",
       "    </tr>\n",
       "    <tr>\n",
       "      <th>Harry Potter and the Deathly Hallows Part 1</th>\n",
       "      <td>WB</td>\n",
       "      <td>296000000.0</td>\n",
       "      <td>664300000</td>\n",
       "      <td>2010</td>\n",
       "    </tr>\n",
       "    <tr>\n",
       "      <th>Inception</th>\n",
       "      <td>WB</td>\n",
       "      <td>292600000.0</td>\n",
       "      <td>535700000</td>\n",
       "      <td>2010</td>\n",
       "    </tr>\n",
       "    <tr>\n",
       "      <th>Shrek Forever After</th>\n",
       "      <td>P/DW</td>\n",
       "      <td>238700000.0</td>\n",
       "      <td>513900000</td>\n",
       "      <td>2010</td>\n",
       "    </tr>\n",
       "  </tbody>\n",
       "</table>\n",
       "</div>"
      ],
      "text/plain": [
       "                                            studio  domestic_gross  \\\n",
       "title                                                                \n",
       "Toy Story 3                                     BV     415000000.0   \n",
       "Alice in Wonderland (2010)                      BV     334200000.0   \n",
       "Harry Potter and the Deathly Hallows Part 1     WB     296000000.0   \n",
       "Inception                                       WB     292600000.0   \n",
       "Shrek Forever After                           P/DW     238700000.0   \n",
       "\n",
       "                                            foreign_gross  year  \n",
       "title                                                            \n",
       "Toy Story 3                                     652000000  2010  \n",
       "Alice in Wonderland (2010)                      691300000  2010  \n",
       "Harry Potter and the Deathly Hallows Part 1     664300000  2010  \n",
       "Inception                                       535700000  2010  \n",
       "Shrek Forever After                             513900000  2010  "
      ]
     },
     "execution_count": 9,
     "metadata": {},
     "output_type": "execute_result"
    }
   ],
   "source": [
    "df_studio.head()"
   ]
  },
  {
   "cell_type": "code",
   "execution_count": 12,
   "metadata": {},
   "outputs": [
    {
     "data": {
      "text/plain": [
       "title\n",
       "Toy Story 3                                    652000000.0\n",
       "Alice in Wonderland (2010)                     691300000.0\n",
       "Harry Potter and the Deathly Hallows Part 1    664300000.0\n",
       "Inception                                      535700000.0\n",
       "Shrek Forever After                            513900000.0\n",
       "                                                  ...     \n",
       "The Quake                                              NaN\n",
       "Edward II (2018 re-release)                            NaN\n",
       "El Pacto                                               NaN\n",
       "The Swan                                               NaN\n",
       "An Actor Prepares                                      NaN\n",
       "Name: foreign_gross, Length: 3387, dtype: float64"
      ]
     },
     "execution_count": 12,
     "metadata": {},
     "output_type": "execute_result"
    }
   ],
   "source": [
    "pd.to_numeric(s,errors = 'coerce')"
   ]
  },
  {
   "cell_type": "code",
   "execution_count": 13,
   "metadata": {},
   "outputs": [],
   "source": [
    "df_studio['foreign_gross'] = pd.to_numeric(df_studio['foreign_gross'], errors = 'coerce')"
   ]
  },
  {
   "cell_type": "code",
   "execution_count": 14,
   "metadata": {},
   "outputs": [
    {
     "name": "stdout",
     "output_type": "stream",
     "text": [
      "<class 'pandas.core.frame.DataFrame'>\n",
      "Index: 3387 entries, Toy Story 3 to An Actor Prepares\n",
      "Data columns (total 4 columns):\n",
      " #   Column          Non-Null Count  Dtype  \n",
      "---  ------          --------------  -----  \n",
      " 0   studio          3382 non-null   object \n",
      " 1   domestic_gross  3359 non-null   float64\n",
      " 2   foreign_gross   2032 non-null   float64\n",
      " 3   year            3387 non-null   int64  \n",
      "dtypes: float64(2), int64(1), object(1)\n",
      "memory usage: 292.3+ KB\n"
     ]
    }
   ],
   "source": [
    "df_studio.info()"
   ]
  },
  {
   "cell_type": "code",
   "execution_count": 15,
   "metadata": {},
   "outputs": [],
   "source": [
    "df_studio['foreign_gross'] = df_studio['foreign_gross'].fillna(0)"
   ]
  },
  {
   "cell_type": "code",
   "execution_count": 16,
   "metadata": {},
   "outputs": [],
   "source": [
    "df_studio['Total_gross'] = df_studio['domestic_gross'] + df_studio['foreign_gross']"
   ]
  },
  {
   "cell_type": "code",
   "execution_count": 20,
   "metadata": {},
   "outputs": [],
   "source": [
    "df_studio_1 = df_studio.groupby(['studio']).sum().sort_values(by = 'Total_gross', ascending = False)"
   ]
  },
  {
   "cell_type": "code",
   "execution_count": 21,
   "metadata": {},
   "outputs": [
    {
     "data": {
      "text/html": [
       "<div>\n",
       "<style scoped>\n",
       "    .dataframe tbody tr th:only-of-type {\n",
       "        vertical-align: middle;\n",
       "    }\n",
       "\n",
       "    .dataframe tbody tr th {\n",
       "        vertical-align: top;\n",
       "    }\n",
       "\n",
       "    .dataframe thead th {\n",
       "        text-align: right;\n",
       "    }\n",
       "</style>\n",
       "<table border=\"1\" class=\"dataframe\">\n",
       "  <thead>\n",
       "    <tr style=\"text-align: right;\">\n",
       "      <th></th>\n",
       "      <th>domestic_gross</th>\n",
       "      <th>foreign_gross</th>\n",
       "      <th>year</th>\n",
       "      <th>Total_gross</th>\n",
       "    </tr>\n",
       "    <tr>\n",
       "      <th>studio</th>\n",
       "      <th></th>\n",
       "      <th></th>\n",
       "      <th></th>\n",
       "      <th></th>\n",
       "    </tr>\n",
       "  </thead>\n",
       "  <tbody>\n",
       "    <tr>\n",
       "      <th>BV</th>\n",
       "      <td>1.841903e+10</td>\n",
       "      <td>2.579385e+10</td>\n",
       "      <td>213451</td>\n",
       "      <td>4.421288e+10</td>\n",
       "    </tr>\n",
       "    <tr>\n",
       "      <th>Fox</th>\n",
       "      <td>1.094950e+10</td>\n",
       "      <td>2.005587e+10</td>\n",
       "      <td>273882</td>\n",
       "      <td>3.100537e+10</td>\n",
       "    </tr>\n",
       "    <tr>\n",
       "      <th>WB</th>\n",
       "      <td>1.216805e+10</td>\n",
       "      <td>1.866790e+10</td>\n",
       "      <td>281941</td>\n",
       "      <td>3.083595e+10</td>\n",
       "    </tr>\n",
       "    <tr>\n",
       "      <th>Uni.</th>\n",
       "      <td>1.290239e+10</td>\n",
       "      <td>1.685477e+10</td>\n",
       "      <td>296082</td>\n",
       "      <td>2.975716e+10</td>\n",
       "    </tr>\n",
       "    <tr>\n",
       "      <th>Sony</th>\n",
       "      <td>8.459683e+09</td>\n",
       "      <td>1.394535e+10</td>\n",
       "      <td>221575</td>\n",
       "      <td>2.240492e+10</td>\n",
       "    </tr>\n",
       "    <tr>\n",
       "      <th>...</th>\n",
       "      <td>...</td>\n",
       "      <td>...</td>\n",
       "      <td>...</td>\n",
       "      <td>...</td>\n",
       "    </tr>\n",
       "    <tr>\n",
       "      <th>Hiber</th>\n",
       "      <td>3.600000e+03</td>\n",
       "      <td>0.000000e+00</td>\n",
       "      <td>2017</td>\n",
       "      <td>3.600000e+03</td>\n",
       "    </tr>\n",
       "    <tr>\n",
       "      <th>ALP</th>\n",
       "      <td>2.800000e+03</td>\n",
       "      <td>0.000000e+00</td>\n",
       "      <td>2011</td>\n",
       "      <td>2.800000e+03</td>\n",
       "    </tr>\n",
       "    <tr>\n",
       "      <th>Synergetic</th>\n",
       "      <td>2.400000e+03</td>\n",
       "      <td>0.000000e+00</td>\n",
       "      <td>2018</td>\n",
       "      <td>2.400000e+03</td>\n",
       "    </tr>\n",
       "    <tr>\n",
       "      <th>PI</th>\n",
       "      <td>0.000000e+00</td>\n",
       "      <td>2.100000e+06</td>\n",
       "      <td>2013</td>\n",
       "      <td>0.000000e+00</td>\n",
       "    </tr>\n",
       "    <tr>\n",
       "      <th>Myr.</th>\n",
       "      <td>0.000000e+00</td>\n",
       "      <td>1.800000e+06</td>\n",
       "      <td>2012</td>\n",
       "      <td>0.000000e+00</td>\n",
       "    </tr>\n",
       "  </tbody>\n",
       "</table>\n",
       "<p>257 rows × 4 columns</p>\n",
       "</div>"
      ],
      "text/plain": [
       "            domestic_gross  foreign_gross    year   Total_gross\n",
       "studio                                                         \n",
       "BV            1.841903e+10   2.579385e+10  213451  4.421288e+10\n",
       "Fox           1.094950e+10   2.005587e+10  273882  3.100537e+10\n",
       "WB            1.216805e+10   1.866790e+10  281941  3.083595e+10\n",
       "Uni.          1.290239e+10   1.685477e+10  296082  2.975716e+10\n",
       "Sony          8.459683e+09   1.394535e+10  221575  2.240492e+10\n",
       "...                    ...            ...     ...           ...\n",
       "Hiber         3.600000e+03   0.000000e+00    2017  3.600000e+03\n",
       "ALP           2.800000e+03   0.000000e+00    2011  2.800000e+03\n",
       "Synergetic    2.400000e+03   0.000000e+00    2018  2.400000e+03\n",
       "PI            0.000000e+00   2.100000e+06    2013  0.000000e+00\n",
       "Myr.          0.000000e+00   1.800000e+06    2012  0.000000e+00\n",
       "\n",
       "[257 rows x 4 columns]"
      ]
     },
     "execution_count": 21,
     "metadata": {},
     "output_type": "execute_result"
    }
   ],
   "source": [
    "df_studio_1"
   ]
  },
  {
   "cell_type": "code",
   "execution_count": 22,
   "metadata": {},
   "outputs": [],
   "source": [
    "df_studio_1['Average_gross'] = df_studio_1['Total_gross'].apply(lambda x: x/9)"
   ]
  },
  {
   "cell_type": "code",
   "execution_count": 23,
   "metadata": {
    "scrolled": false
   },
   "outputs": [
    {
     "data": {
      "text/html": [
       "<div>\n",
       "<style scoped>\n",
       "    .dataframe tbody tr th:only-of-type {\n",
       "        vertical-align: middle;\n",
       "    }\n",
       "\n",
       "    .dataframe tbody tr th {\n",
       "        vertical-align: top;\n",
       "    }\n",
       "\n",
       "    .dataframe thead th {\n",
       "        text-align: right;\n",
       "    }\n",
       "</style>\n",
       "<table border=\"1\" class=\"dataframe\">\n",
       "  <thead>\n",
       "    <tr style=\"text-align: right;\">\n",
       "      <th></th>\n",
       "      <th>domestic_gross</th>\n",
       "      <th>foreign_gross</th>\n",
       "      <th>year</th>\n",
       "      <th>Total_gross</th>\n",
       "      <th>Average_gross</th>\n",
       "    </tr>\n",
       "    <tr>\n",
       "      <th>studio</th>\n",
       "      <th></th>\n",
       "      <th></th>\n",
       "      <th></th>\n",
       "      <th></th>\n",
       "      <th></th>\n",
       "    </tr>\n",
       "  </thead>\n",
       "  <tbody>\n",
       "    <tr>\n",
       "      <th>BV</th>\n",
       "      <td>1.841903e+10</td>\n",
       "      <td>2.579385e+10</td>\n",
       "      <td>213451</td>\n",
       "      <td>4.421288e+10</td>\n",
       "      <td>4.912542e+09</td>\n",
       "    </tr>\n",
       "    <tr>\n",
       "      <th>Fox</th>\n",
       "      <td>1.094950e+10</td>\n",
       "      <td>2.005587e+10</td>\n",
       "      <td>273882</td>\n",
       "      <td>3.100537e+10</td>\n",
       "      <td>3.445041e+09</td>\n",
       "    </tr>\n",
       "    <tr>\n",
       "      <th>WB</th>\n",
       "      <td>1.216805e+10</td>\n",
       "      <td>1.866790e+10</td>\n",
       "      <td>281941</td>\n",
       "      <td>3.083595e+10</td>\n",
       "      <td>3.426217e+09</td>\n",
       "    </tr>\n",
       "    <tr>\n",
       "      <th>Uni.</th>\n",
       "      <td>1.290239e+10</td>\n",
       "      <td>1.685477e+10</td>\n",
       "      <td>296082</td>\n",
       "      <td>2.975716e+10</td>\n",
       "      <td>3.306351e+09</td>\n",
       "    </tr>\n",
       "    <tr>\n",
       "      <th>Sony</th>\n",
       "      <td>8.459683e+09</td>\n",
       "      <td>1.394535e+10</td>\n",
       "      <td>221575</td>\n",
       "      <td>2.240492e+10</td>\n",
       "      <td>2.489435e+09</td>\n",
       "    </tr>\n",
       "    <tr>\n",
       "      <th>...</th>\n",
       "      <td>...</td>\n",
       "      <td>...</td>\n",
       "      <td>...</td>\n",
       "      <td>...</td>\n",
       "      <td>...</td>\n",
       "    </tr>\n",
       "    <tr>\n",
       "      <th>Hiber</th>\n",
       "      <td>3.600000e+03</td>\n",
       "      <td>0.000000e+00</td>\n",
       "      <td>2017</td>\n",
       "      <td>3.600000e+03</td>\n",
       "      <td>4.000000e+02</td>\n",
       "    </tr>\n",
       "    <tr>\n",
       "      <th>ALP</th>\n",
       "      <td>2.800000e+03</td>\n",
       "      <td>0.000000e+00</td>\n",
       "      <td>2011</td>\n",
       "      <td>2.800000e+03</td>\n",
       "      <td>3.111111e+02</td>\n",
       "    </tr>\n",
       "    <tr>\n",
       "      <th>Synergetic</th>\n",
       "      <td>2.400000e+03</td>\n",
       "      <td>0.000000e+00</td>\n",
       "      <td>2018</td>\n",
       "      <td>2.400000e+03</td>\n",
       "      <td>2.666667e+02</td>\n",
       "    </tr>\n",
       "    <tr>\n",
       "      <th>PI</th>\n",
       "      <td>0.000000e+00</td>\n",
       "      <td>2.100000e+06</td>\n",
       "      <td>2013</td>\n",
       "      <td>0.000000e+00</td>\n",
       "      <td>0.000000e+00</td>\n",
       "    </tr>\n",
       "    <tr>\n",
       "      <th>Myr.</th>\n",
       "      <td>0.000000e+00</td>\n",
       "      <td>1.800000e+06</td>\n",
       "      <td>2012</td>\n",
       "      <td>0.000000e+00</td>\n",
       "      <td>0.000000e+00</td>\n",
       "    </tr>\n",
       "  </tbody>\n",
       "</table>\n",
       "<p>257 rows × 5 columns</p>\n",
       "</div>"
      ],
      "text/plain": [
       "            domestic_gross  foreign_gross    year   Total_gross  Average_gross\n",
       "studio                                                                        \n",
       "BV            1.841903e+10   2.579385e+10  213451  4.421288e+10   4.912542e+09\n",
       "Fox           1.094950e+10   2.005587e+10  273882  3.100537e+10   3.445041e+09\n",
       "WB            1.216805e+10   1.866790e+10  281941  3.083595e+10   3.426217e+09\n",
       "Uni.          1.290239e+10   1.685477e+10  296082  2.975716e+10   3.306351e+09\n",
       "Sony          8.459683e+09   1.394535e+10  221575  2.240492e+10   2.489435e+09\n",
       "...                    ...            ...     ...           ...            ...\n",
       "Hiber         3.600000e+03   0.000000e+00    2017  3.600000e+03   4.000000e+02\n",
       "ALP           2.800000e+03   0.000000e+00    2011  2.800000e+03   3.111111e+02\n",
       "Synergetic    2.400000e+03   0.000000e+00    2018  2.400000e+03   2.666667e+02\n",
       "PI            0.000000e+00   2.100000e+06    2013  0.000000e+00   0.000000e+00\n",
       "Myr.          0.000000e+00   1.800000e+06    2012  0.000000e+00   0.000000e+00\n",
       "\n",
       "[257 rows x 5 columns]"
      ]
     },
     "execution_count": 23,
     "metadata": {},
     "output_type": "execute_result"
    }
   ],
   "source": [
    "df_studio_1"
   ]
  },
  {
   "cell_type": "code",
   "execution_count": 28,
   "metadata": {},
   "outputs": [],
   "source": [
    "df_studio_2 = df_studio_1[0:10].sort_values(by = 'Total_gross', ascending = False)"
   ]
  },
  {
   "cell_type": "code",
   "execution_count": 30,
   "metadata": {
    "scrolled": false
   },
   "outputs": [
    {
     "data": {
      "text/plain": [
       "Text(0, 0.5, 'Gross Revenue')"
      ]
     },
     "execution_count": 30,
     "metadata": {},
     "output_type": "execute_result"
    },
    {
     "data": {
      "image/png": "[encoded data removed]",
      "text/plain": [
       "<Figure size 1440x1080 with 1 Axes>"
      ]
     },
     "metadata": {
      "needs_background": "light"
     },
     "output_type": "display_data"
    }
   ],
   "source": [
    "labels = df_studio_2.index\n",
    "plt.figure(figsize=(20,15))\n",
    "plt.bar(range(len(labels)), df_studio_2.domestic_gross, color='blue')\n",
    "plt.bar(range(len(labels)), df_studio_2.foreign_gross, color='green', bottom =  df_studio_2.domestic_gross)\n",
    "plt.xticks(range(len(labels)), labels, fontsize = 12)\n",
    "plt.legend(['Domestic', 'Foreign'], fontsize = 30)\n",
    "plt.title('Top 10 Studios Gross Revenue', fontsize=28)\n",
    "plt.xlabel('Studios', fontsize=28)\n",
    "plt.ylabel('Gross Revenue', fontsize=28)\n"
   ]
  },
  {
   "cell_type": "code",
   "execution_count": 33,
   "metadata": {},
   "outputs": [
    {
     "data": {
      "text/plain": [
       "Text(0, 0.5, 'Average Gross Revenue')"
      ]
     },
     "execution_count": 33,
     "metadata": {},
     "output_type": "execute_result"
    },
    {
     "data": {
      "image/png": "[encoded data removed]",
      "text/plain": [
       "<Figure size 1440x1080 with 1 Axes>"
      ]
     },
     "metadata": {
      "needs_background": "light"
     },
     "output_type": "display_data"
    }
   ],
   "source": [
    "labels = df_studio_2.index\n",
    "plt.figure(figsize=(20,15))\n",
    "plt.bar(range(len(labels)), df_studio_2.Average_gross, color='blue')\n",
    "plt.xticks(range(len(labels)), labels, fontsize = 12)\n",
    "plt.xlabel('Studios', fontsize=28)\n",
    "plt.ylabel('Average Gross Revenue', fontsize=28)"
   ]
  },
  {
   "cell_type": "code",
   "execution_count": null,
   "metadata": {},
   "outputs": [],
   "source": []
  }
 ],
 "metadata": {
  "kernelspec": {
   "display_name": "learn-env",
   "language": "python",
   "name": "learn-env"
  },
  "language_info": {
   "codemirror_mode": {
    "name": "ipython",
    "version": 3
   },
   "file_extension": ".py",
   "mimetype": "text/x-python",
   "name": "python",
   "nbconvert_exporter": "python",
   "pygments_lexer": "ipython3",
   "version": "3.8.5"
  }
 },
 "nbformat": 4,
 "nbformat_minor": 4
}
